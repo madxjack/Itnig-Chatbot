{
 "cells": [
  {
   "cell_type": "code",
   "execution_count": 11,
   "metadata": {},
   "outputs": [
    {
     "name": "stdout",
     "output_type": "stream",
     "text": [
      "Note: you may need to restart the kernel to use updated packages.\n",
      "Requirement already satisfied: llama-index in c:\\dev\\2024\\llamaindex\\venv\\lib\\site-packages (0.11.9)\n",
      "Requirement already satisfied: llama-index-experimental in c:\\dev\\2024\\llamaindex\\venv\\lib\\site-packages (0.3.1)\n",
      "Requirement already satisfied: llama-index-llms-groq in c:\\dev\\2024\\llamaindex\\venv\\lib\\site-packages (0.2.0)\n",
      "Requirement already satisfied: python-dotenv in c:\\dev\\2024\\llamaindex\\venv\\lib\\site-packages (1.0.1)\n",
      "Requirement already satisfied: llama-index-agent-openai<0.4.0,>=0.3.1 in c:\\dev\\2024\\llamaindex\\venv\\lib\\site-packages (from llama-index) (0.3.1)\n",
      "Requirement already satisfied: llama-index-cli<0.4.0,>=0.3.1 in c:\\dev\\2024\\llamaindex\\venv\\lib\\site-packages (from llama-index) (0.3.1)\n",
      "Requirement already satisfied: llama-index-core<0.12.0,>=0.11.9 in c:\\dev\\2024\\llamaindex\\venv\\lib\\site-packages (from llama-index) (0.11.9)\n",
      "Requirement already satisfied: llama-index-embeddings-openai<0.3.0,>=0.2.4 in c:\\dev\\2024\\llamaindex\\venv\\lib\\site-packages (from llama-index) (0.2.5)\n",
      "Requirement already satisfied: llama-index-indices-managed-llama-cloud>=0.3.0 in c:\\dev\\2024\\llamaindex\\venv\\lib\\site-packages (from llama-index) (0.3.1)\n",
      "Requirement already satisfied: llama-index-legacy<0.10.0,>=0.9.48 in c:\\dev\\2024\\llamaindex\\venv\\lib\\site-packages (from llama-index) (0.9.48.post3)\n",
      "Requirement already satisfied: llama-index-llms-openai<0.3.0,>=0.2.3 in c:\\dev\\2024\\llamaindex\\venv\\lib\\site-packages (from llama-index) (0.2.7)\n",
      "Requirement already satisfied: llama-index-multi-modal-llms-openai<0.3.0,>=0.2.0 in c:\\dev\\2024\\llamaindex\\venv\\lib\\site-packages (from llama-index) (0.2.1)\n",
      "Requirement already satisfied: llama-index-program-openai<0.3.0,>=0.2.0 in c:\\dev\\2024\\llamaindex\\venv\\lib\\site-packages (from llama-index) (0.2.0)\n",
      "Requirement already satisfied: llama-index-question-gen-openai<0.3.0,>=0.2.0 in c:\\dev\\2024\\llamaindex\\venv\\lib\\site-packages (from llama-index) (0.2.0)\n",
      "Requirement already satisfied: llama-index-readers-file<0.3.0,>=0.2.0 in c:\\dev\\2024\\llamaindex\\venv\\lib\\site-packages (from llama-index) (0.2.1)\n",
      "Requirement already satisfied: llama-index-readers-llama-parse>=0.3.0 in c:\\dev\\2024\\llamaindex\\venv\\lib\\site-packages (from llama-index) (0.3.0)\n",
      "Requirement already satisfied: nltk>3.8.1 in c:\\dev\\2024\\llamaindex\\venv\\lib\\site-packages (from llama-index) (3.9.1)\n",
      "Requirement already satisfied: llama-index-finetuning<0.3.0,>=0.2.0 in c:\\dev\\2024\\llamaindex\\venv\\lib\\site-packages (from llama-index-experimental) (0.2.0)\n",
      "Requirement already satisfied: pandas in c:\\dev\\2024\\llamaindex\\venv\\lib\\site-packages (from llama-index-experimental) (2.2.2)\n",
      "Requirement already satisfied: llama-index-llms-openai-like<0.3.0,>=0.2.0 in c:\\dev\\2024\\llamaindex\\venv\\lib\\site-packages (from llama-index-llms-groq) (0.2.0)\n",
      "Requirement already satisfied: openai>=1.14.0 in c:\\dev\\2024\\llamaindex\\venv\\lib\\site-packages (from llama-index-agent-openai<0.4.0,>=0.3.1->llama-index) (1.45.0)\n",
      "Requirement already satisfied: PyYAML>=6.0.1 in c:\\dev\\2024\\llamaindex\\venv\\lib\\site-packages (from llama-index-core<0.12.0,>=0.11.9->llama-index) (6.0.2)\n",
      "Requirement already satisfied: SQLAlchemy>=1.4.49 in c:\\dev\\2024\\llamaindex\\venv\\lib\\site-packages (from SQLAlchemy[asyncio]>=1.4.49->llama-index-core<0.12.0,>=0.11.9->llama-index) (2.0.34)\n",
      "Requirement already satisfied: aiohttp<4.0.0,>=3.8.6 in c:\\dev\\2024\\llamaindex\\venv\\lib\\site-packages (from llama-index-core<0.12.0,>=0.11.9->llama-index) (3.10.5)\n",
      "Requirement already satisfied: dataclasses-json in c:\\dev\\2024\\llamaindex\\venv\\lib\\site-packages (from llama-index-core<0.12.0,>=0.11.9->llama-index) (0.6.7)\n",
      "Requirement already satisfied: deprecated>=1.2.9.3 in c:\\dev\\2024\\llamaindex\\venv\\lib\\site-packages (from llama-index-core<0.12.0,>=0.11.9->llama-index) (1.2.14)\n",
      "Requirement already satisfied: dirtyjson<2.0.0,>=1.0.8 in c:\\dev\\2024\\llamaindex\\venv\\lib\\site-packages (from llama-index-core<0.12.0,>=0.11.9->llama-index) (1.0.8)\n",
      "Requirement already satisfied: fsspec>=2023.5.0 in c:\\dev\\2024\\llamaindex\\venv\\lib\\site-packages (from llama-index-core<0.12.0,>=0.11.9->llama-index) (2024.9.0)\n",
      "Requirement already satisfied: httpx in c:\\dev\\2024\\llamaindex\\venv\\lib\\site-packages (from llama-index-core<0.12.0,>=0.11.9->llama-index) (0.27.2)\n",
      "Requirement already satisfied: nest-asyncio<2.0.0,>=1.5.8 in c:\\dev\\2024\\llamaindex\\venv\\lib\\site-packages (from llama-index-core<0.12.0,>=0.11.9->llama-index) (1.6.0)\n",
      "Requirement already satisfied: networkx>=3.0 in c:\\dev\\2024\\llamaindex\\venv\\lib\\site-packages (from llama-index-core<0.12.0,>=0.11.9->llama-index) (3.3)\n",
      "Requirement already satisfied: numpy<2.0.0 in c:\\dev\\2024\\llamaindex\\venv\\lib\\site-packages (from llama-index-core<0.12.0,>=0.11.9->llama-index) (1.26.4)\n",
      "Requirement already satisfied: pillow>=9.0.0 in c:\\dev\\2024\\llamaindex\\venv\\lib\\site-packages (from llama-index-core<0.12.0,>=0.11.9->llama-index) (10.4.0)\n",
      "Requirement already satisfied: pydantic<3.0.0,>=2.7.0 in c:\\dev\\2024\\llamaindex\\venv\\lib\\site-packages (from llama-index-core<0.12.0,>=0.11.9->llama-index) (2.8.2)\n",
      "Requirement already satisfied: requests>=2.31.0 in c:\\dev\\2024\\llamaindex\\venv\\lib\\site-packages (from llama-index-core<0.12.0,>=0.11.9->llama-index) (2.32.3)\n",
      "Requirement already satisfied: tenacity!=8.4.0,<9.0.0,>=8.2.0 in c:\\dev\\2024\\llamaindex\\venv\\lib\\site-packages (from llama-index-core<0.12.0,>=0.11.9->llama-index) (8.3.0)\n",
      "Requirement already satisfied: tiktoken>=0.3.3 in c:\\dev\\2024\\llamaindex\\venv\\lib\\site-packages (from llama-index-core<0.12.0,>=0.11.9->llama-index) (0.7.0)\n",
      "Requirement already satisfied: tqdm<5.0.0,>=4.66.1 in c:\\dev\\2024\\llamaindex\\venv\\lib\\site-packages (from llama-index-core<0.12.0,>=0.11.9->llama-index) (4.66.5)\n",
      "Requirement already satisfied: typing-extensions>=4.5.0 in c:\\dev\\2024\\llamaindex\\venv\\lib\\site-packages (from llama-index-core<0.12.0,>=0.11.9->llama-index) (4.12.2)\n",
      "Requirement already satisfied: typing-inspect>=0.8.0 in c:\\dev\\2024\\llamaindex\\venv\\lib\\site-packages (from llama-index-core<0.12.0,>=0.11.9->llama-index) (0.9.0)\n",
      "Requirement already satisfied: wrapt in c:\\dev\\2024\\llamaindex\\venv\\lib\\site-packages (from llama-index-core<0.12.0,>=0.11.9->llama-index) (1.16.0)\n",
      "Requirement already satisfied: llama-index-embeddings-adapter<0.3.0,>=0.2.0 in c:\\dev\\2024\\llamaindex\\venv\\lib\\site-packages (from llama-index-finetuning<0.3.0,>=0.2.0->llama-index-experimental) (0.2.1)\n",
      "Requirement already satisfied: llama-index-llms-azure-openai<0.3.0,>=0.2.0 in c:\\dev\\2024\\llamaindex\\venv\\lib\\site-packages (from llama-index-finetuning<0.3.0,>=0.2.0->llama-index-experimental) (0.2.1)\n",
      "Requirement already satisfied: llama-index-llms-mistralai<0.3.0,>=0.2.0 in c:\\dev\\2024\\llamaindex\\venv\\lib\\site-packages (from llama-index-finetuning<0.3.0,>=0.2.0->llama-index-experimental) (0.2.4)\n",
      "Requirement already satisfied: llama-index-postprocessor-cohere-rerank<0.3.0,>=0.2.0 in c:\\dev\\2024\\llamaindex\\venv\\lib\\site-packages (from llama-index-finetuning<0.3.0,>=0.2.0->llama-index-experimental) (0.2.0)\n",
      "Requirement already satisfied: sentence-transformers<3.0.0,>=2.3.0 in c:\\dev\\2024\\llamaindex\\venv\\lib\\site-packages (from llama-index-finetuning<0.3.0,>=0.2.0->llama-index-experimental) (2.7.0)\n",
      "Requirement already satisfied: llama-cloud>=0.0.11 in c:\\dev\\2024\\llamaindex\\venv\\lib\\site-packages (from llama-index-indices-managed-llama-cloud>=0.3.0->llama-index) (0.0.17)\n",
      "Requirement already satisfied: transformers<5.0.0,>=4.37.0 in c:\\dev\\2024\\llamaindex\\venv\\lib\\site-packages (from llama-index-llms-openai-like<0.3.0,>=0.2.0->llama-index-llms-groq) (4.44.2)\n",
      "Requirement already satisfied: beautifulsoup4<5.0.0,>=4.12.3 in c:\\dev\\2024\\llamaindex\\venv\\lib\\site-packages (from llama-index-readers-file<0.3.0,>=0.2.0->llama-index) (4.12.3)\n",
      "Requirement already satisfied: pypdf<5.0.0,>=4.0.1 in c:\\dev\\2024\\llamaindex\\venv\\lib\\site-packages (from llama-index-readers-file<0.3.0,>=0.2.0->llama-index) (4.3.1)\n",
      "Requirement already satisfied: striprtf<0.0.27,>=0.0.26 in c:\\dev\\2024\\llamaindex\\venv\\lib\\site-packages (from llama-index-readers-file<0.3.0,>=0.2.0->llama-index) (0.0.26)\n",
      "Requirement already satisfied: llama-parse>=0.5.0 in c:\\dev\\2024\\llamaindex\\venv\\lib\\site-packages (from llama-index-readers-llama-parse>=0.3.0->llama-index) (0.5.5)\n",
      "Requirement already satisfied: click in c:\\dev\\2024\\llamaindex\\venv\\lib\\site-packages (from nltk>3.8.1->llama-index) (8.1.7)\n",
      "Requirement already satisfied: joblib in c:\\dev\\2024\\llamaindex\\venv\\lib\\site-packages (from nltk>3.8.1->llama-index) (1.4.2)\n",
      "Requirement already satisfied: regex>=2021.8.3 in c:\\dev\\2024\\llamaindex\\venv\\lib\\site-packages (from nltk>3.8.1->llama-index) (2024.9.11)\n",
      "Requirement already satisfied: python-dateutil>=2.8.2 in c:\\dev\\2024\\llamaindex\\venv\\lib\\site-packages (from pandas->llama-index-experimental) (2.9.0.post0)\n",
      "Requirement already satisfied: pytz>=2020.1 in c:\\dev\\2024\\llamaindex\\venv\\lib\\site-packages (from pandas->llama-index-experimental) (2024.2)\n",
      "Requirement already satisfied: tzdata>=2022.7 in c:\\dev\\2024\\llamaindex\\venv\\lib\\site-packages (from pandas->llama-index-experimental) (2024.1)\n",
      "Requirement already satisfied: aiohappyeyeballs>=2.3.0 in c:\\dev\\2024\\llamaindex\\venv\\lib\\site-packages (from aiohttp<4.0.0,>=3.8.6->llama-index-core<0.12.0,>=0.11.9->llama-index) (2.4.0)\n",
      "Requirement already satisfied: aiosignal>=1.1.2 in c:\\dev\\2024\\llamaindex\\venv\\lib\\site-packages (from aiohttp<4.0.0,>=3.8.6->llama-index-core<0.12.0,>=0.11.9->llama-index) (1.3.1)\n",
      "Requirement already satisfied: attrs>=17.3.0 in c:\\dev\\2024\\llamaindex\\venv\\lib\\site-packages (from aiohttp<4.0.0,>=3.8.6->llama-index-core<0.12.0,>=0.11.9->llama-index) (24.2.0)\n",
      "Requirement already satisfied: frozenlist>=1.1.1 in c:\\dev\\2024\\llamaindex\\venv\\lib\\site-packages (from aiohttp<4.0.0,>=3.8.6->llama-index-core<0.12.0,>=0.11.9->llama-index) (1.4.1)\n",
      "Requirement already satisfied: multidict<7.0,>=4.5 in c:\\dev\\2024\\llamaindex\\venv\\lib\\site-packages (from aiohttp<4.0.0,>=3.8.6->llama-index-core<0.12.0,>=0.11.9->llama-index) (6.1.0)\n",
      "Requirement already satisfied: yarl<2.0,>=1.0 in c:\\dev\\2024\\llamaindex\\venv\\lib\\site-packages (from aiohttp<4.0.0,>=3.8.6->llama-index-core<0.12.0,>=0.11.9->llama-index) (1.11.1)\n",
      "Requirement already satisfied: soupsieve>1.2 in c:\\dev\\2024\\llamaindex\\venv\\lib\\site-packages (from beautifulsoup4<5.0.0,>=4.12.3->llama-index-readers-file<0.3.0,>=0.2.0->llama-index) (2.6)\n",
      "Requirement already satisfied: anyio in c:\\dev\\2024\\llamaindex\\venv\\lib\\site-packages (from httpx->llama-index-core<0.12.0,>=0.11.9->llama-index) (4.4.0)\n",
      "Requirement already satisfied: certifi in c:\\dev\\2024\\llamaindex\\venv\\lib\\site-packages (from httpx->llama-index-core<0.12.0,>=0.11.9->llama-index) (2024.8.30)\n",
      "Requirement already satisfied: httpcore==1.* in c:\\dev\\2024\\llamaindex\\venv\\lib\\site-packages (from httpx->llama-index-core<0.12.0,>=0.11.9->llama-index) (1.0.5)\n",
      "Requirement already satisfied: idna in c:\\dev\\2024\\llamaindex\\venv\\lib\\site-packages (from httpx->llama-index-core<0.12.0,>=0.11.9->llama-index) (3.9)\n",
      "Requirement already satisfied: sniffio in c:\\dev\\2024\\llamaindex\\venv\\lib\\site-packages (from httpx->llama-index-core<0.12.0,>=0.11.9->llama-index) (1.3.1)\n",
      "Requirement already satisfied: h11<0.15,>=0.13 in c:\\dev\\2024\\llamaindex\\venv\\lib\\site-packages (from httpcore==1.*->httpx->llama-index-core<0.12.0,>=0.11.9->llama-index) (0.14.0)\n",
      "Requirement already satisfied: torch<3.0.0,>=2.1.2 in c:\\dev\\2024\\llamaindex\\venv\\lib\\site-packages (from llama-index-embeddings-adapter<0.3.0,>=0.2.0->llama-index-finetuning<0.3.0,>=0.2.0->llama-index-experimental) (2.4.1)\n",
      "Requirement already satisfied: azure-identity<2.0.0,>=1.15.0 in c:\\dev\\2024\\llamaindex\\venv\\lib\\site-packages (from llama-index-llms-azure-openai<0.3.0,>=0.2.0->llama-index-finetuning<0.3.0,>=0.2.0->llama-index-experimental) (1.17.1)\n",
      "Requirement already satisfied: mistralai>=1.0.0 in c:\\dev\\2024\\llamaindex\\venv\\lib\\site-packages (from llama-index-llms-mistralai<0.3.0,>=0.2.0->llama-index-finetuning<0.3.0,>=0.2.0->llama-index-experimental) (1.0.3)\n",
      "Requirement already satisfied: cohere<6.0.0,>=5.1.1 in c:\\dev\\2024\\llamaindex\\venv\\lib\\site-packages (from llama-index-postprocessor-cohere-rerank<0.3.0,>=0.2.0->llama-index-finetuning<0.3.0,>=0.2.0->llama-index-experimental) (5.9.2)\n",
      "Requirement already satisfied: distro<2,>=1.7.0 in c:\\dev\\2024\\llamaindex\\venv\\lib\\site-packages (from openai>=1.14.0->llama-index-agent-openai<0.4.0,>=0.3.1->llama-index) (1.9.0)\n",
      "Requirement already satisfied: jiter<1,>=0.4.0 in c:\\dev\\2024\\llamaindex\\venv\\lib\\site-packages (from openai>=1.14.0->llama-index-agent-openai<0.4.0,>=0.3.1->llama-index) (0.5.0)\n",
      "Requirement already satisfied: annotated-types>=0.4.0 in c:\\dev\\2024\\llamaindex\\venv\\lib\\site-packages (from pydantic<3.0.0,>=2.7.0->llama-index-core<0.12.0,>=0.11.9->llama-index) (0.7.0)\n",
      "Requirement already satisfied: pydantic-core==2.20.1 in c:\\dev\\2024\\llamaindex\\venv\\lib\\site-packages (from pydantic<3.0.0,>=2.7.0->llama-index-core<0.12.0,>=0.11.9->llama-index) (2.20.1)\n",
      "Requirement already satisfied: six>=1.5 in c:\\dev\\2024\\llamaindex\\venv\\lib\\site-packages (from python-dateutil>=2.8.2->pandas->llama-index-experimental) (1.16.0)\n",
      "Requirement already satisfied: charset-normalizer<4,>=2 in c:\\dev\\2024\\llamaindex\\venv\\lib\\site-packages (from requests>=2.31.0->llama-index-core<0.12.0,>=0.11.9->llama-index) (3.3.2)\n",
      "Requirement already satisfied: urllib3<3,>=1.21.1 in c:\\dev\\2024\\llamaindex\\venv\\lib\\site-packages (from requests>=2.31.0->llama-index-core<0.12.0,>=0.11.9->llama-index) (2.2.3)\n",
      "Requirement already satisfied: scikit-learn in c:\\dev\\2024\\llamaindex\\venv\\lib\\site-packages (from sentence-transformers<3.0.0,>=2.3.0->llama-index-finetuning<0.3.0,>=0.2.0->llama-index-experimental) (1.5.2)\n",
      "Requirement already satisfied: scipy in c:\\dev\\2024\\llamaindex\\venv\\lib\\site-packages (from sentence-transformers<3.0.0,>=2.3.0->llama-index-finetuning<0.3.0,>=0.2.0->llama-index-experimental) (1.14.1)\n",
      "Requirement already satisfied: huggingface-hub>=0.15.1 in c:\\dev\\2024\\llamaindex\\venv\\lib\\site-packages (from sentence-transformers<3.0.0,>=2.3.0->llama-index-finetuning<0.3.0,>=0.2.0->llama-index-experimental) (0.24.7)\n",
      "Requirement already satisfied: greenlet!=0.4.17 in c:\\dev\\2024\\llamaindex\\venv\\lib\\site-packages (from SQLAlchemy>=1.4.49->SQLAlchemy[asyncio]>=1.4.49->llama-index-core<0.12.0,>=0.11.9->llama-index) (3.1.0)\n",
      "Requirement already satisfied: colorama in c:\\dev\\2024\\llamaindex\\venv\\lib\\site-packages (from tqdm<5.0.0,>=4.66.1->llama-index-core<0.12.0,>=0.11.9->llama-index) (0.4.6)\n",
      "Requirement already satisfied: filelock in c:\\dev\\2024\\llamaindex\\venv\\lib\\site-packages (from transformers<5.0.0,>=4.37.0->llama-index-llms-openai-like<0.3.0,>=0.2.0->llama-index-llms-groq) (3.16.0)\n",
      "Requirement already satisfied: packaging>=20.0 in c:\\dev\\2024\\llamaindex\\venv\\lib\\site-packages (from transformers<5.0.0,>=4.37.0->llama-index-llms-openai-like<0.3.0,>=0.2.0->llama-index-llms-groq) (24.1)\n",
      "Requirement already satisfied: safetensors>=0.4.1 in c:\\dev\\2024\\llamaindex\\venv\\lib\\site-packages (from transformers<5.0.0,>=4.37.0->llama-index-llms-openai-like<0.3.0,>=0.2.0->llama-index-llms-groq) (0.4.5)\n",
      "Requirement already satisfied: tokenizers<0.20,>=0.19 in c:\\dev\\2024\\llamaindex\\venv\\lib\\site-packages (from transformers<5.0.0,>=4.37.0->llama-index-llms-openai-like<0.3.0,>=0.2.0->llama-index-llms-groq) (0.19.1)\n",
      "Requirement already satisfied: mypy-extensions>=0.3.0 in c:\\dev\\2024\\llamaindex\\venv\\lib\\site-packages (from typing-inspect>=0.8.0->llama-index-core<0.12.0,>=0.11.9->llama-index) (1.0.0)\n",
      "Requirement already satisfied: marshmallow<4.0.0,>=3.18.0 in c:\\dev\\2024\\llamaindex\\venv\\lib\\site-packages (from dataclasses-json->llama-index-core<0.12.0,>=0.11.9->llama-index) (3.22.0)\n",
      "Requirement already satisfied: azure-core>=1.23.0 in c:\\dev\\2024\\llamaindex\\venv\\lib\\site-packages (from azure-identity<2.0.0,>=1.15.0->llama-index-llms-azure-openai<0.3.0,>=0.2.0->llama-index-finetuning<0.3.0,>=0.2.0->llama-index-experimental) (1.31.0)\n",
      "Requirement already satisfied: cryptography>=2.5 in c:\\dev\\2024\\llamaindex\\venv\\lib\\site-packages (from azure-identity<2.0.0,>=1.15.0->llama-index-llms-azure-openai<0.3.0,>=0.2.0->llama-index-finetuning<0.3.0,>=0.2.0->llama-index-experimental) (43.0.1)\n",
      "Requirement already satisfied: msal>=1.24.0 in c:\\dev\\2024\\llamaindex\\venv\\lib\\site-packages (from azure-identity<2.0.0,>=1.15.0->llama-index-llms-azure-openai<0.3.0,>=0.2.0->llama-index-finetuning<0.3.0,>=0.2.0->llama-index-experimental) (1.31.0)\n",
      "Requirement already satisfied: msal-extensions>=0.3.0 in c:\\dev\\2024\\llamaindex\\venv\\lib\\site-packages (from azure-identity<2.0.0,>=1.15.0->llama-index-llms-azure-openai<0.3.0,>=0.2.0->llama-index-finetuning<0.3.0,>=0.2.0->llama-index-experimental) (1.2.0)\n",
      "Requirement already satisfied: boto3<2.0.0,>=1.34.0 in c:\\dev\\2024\\llamaindex\\venv\\lib\\site-packages (from cohere<6.0.0,>=5.1.1->llama-index-postprocessor-cohere-rerank<0.3.0,>=0.2.0->llama-index-finetuning<0.3.0,>=0.2.0->llama-index-experimental) (1.35.19)\n",
      "Requirement already satisfied: fastavro<2.0.0,>=1.9.4 in c:\\dev\\2024\\llamaindex\\venv\\lib\\site-packages (from cohere<6.0.0,>=5.1.1->llama-index-postprocessor-cohere-rerank<0.3.0,>=0.2.0->llama-index-finetuning<0.3.0,>=0.2.0->llama-index-experimental) (1.9.7)\n",
      "Requirement already satisfied: httpx-sse==0.4.0 in c:\\dev\\2024\\llamaindex\\venv\\lib\\site-packages (from cohere<6.0.0,>=5.1.1->llama-index-postprocessor-cohere-rerank<0.3.0,>=0.2.0->llama-index-finetuning<0.3.0,>=0.2.0->llama-index-experimental) (0.4.0)\n",
      "Requirement already satisfied: parameterized<0.10.0,>=0.9.0 in c:\\dev\\2024\\llamaindex\\venv\\lib\\site-packages (from cohere<6.0.0,>=5.1.1->llama-index-postprocessor-cohere-rerank<0.3.0,>=0.2.0->llama-index-finetuning<0.3.0,>=0.2.0->llama-index-experimental) (0.9.0)\n",
      "Requirement already satisfied: types-requests<3.0.0,>=2.0.0 in c:\\dev\\2024\\llamaindex\\venv\\lib\\site-packages (from cohere<6.0.0,>=5.1.1->llama-index-postprocessor-cohere-rerank<0.3.0,>=0.2.0->llama-index-finetuning<0.3.0,>=0.2.0->llama-index-experimental) (2.32.0.20240914)\n",
      "Requirement already satisfied: jsonpath-python<2.0.0,>=1.0.6 in c:\\dev\\2024\\llamaindex\\venv\\lib\\site-packages (from mistralai>=1.0.0->llama-index-llms-mistralai<0.3.0,>=0.2.0->llama-index-finetuning<0.3.0,>=0.2.0->llama-index-experimental) (1.0.6)\n",
      "Requirement already satisfied: sympy in c:\\dev\\2024\\llamaindex\\venv\\lib\\site-packages (from torch<3.0.0,>=2.1.2->llama-index-embeddings-adapter<0.3.0,>=0.2.0->llama-index-finetuning<0.3.0,>=0.2.0->llama-index-experimental) (1.13.2)\n",
      "Requirement already satisfied: jinja2 in c:\\dev\\2024\\llamaindex\\venv\\lib\\site-packages (from torch<3.0.0,>=2.1.2->llama-index-embeddings-adapter<0.3.0,>=0.2.0->llama-index-finetuning<0.3.0,>=0.2.0->llama-index-experimental) (3.1.4)\n",
      "Requirement already satisfied: setuptools in c:\\dev\\2024\\llamaindex\\venv\\lib\\site-packages (from torch<3.0.0,>=2.1.2->llama-index-embeddings-adapter<0.3.0,>=0.2.0->llama-index-finetuning<0.3.0,>=0.2.0->llama-index-experimental) (75.0.0)\n",
      "Requirement already satisfied: threadpoolctl>=3.1.0 in c:\\dev\\2024\\llamaindex\\venv\\lib\\site-packages (from scikit-learn->sentence-transformers<3.0.0,>=2.3.0->llama-index-finetuning<0.3.0,>=0.2.0->llama-index-experimental) (3.5.0)\n",
      "Requirement already satisfied: botocore<1.36.0,>=1.35.19 in c:\\dev\\2024\\llamaindex\\venv\\lib\\site-packages (from boto3<2.0.0,>=1.34.0->cohere<6.0.0,>=5.1.1->llama-index-postprocessor-cohere-rerank<0.3.0,>=0.2.0->llama-index-finetuning<0.3.0,>=0.2.0->llama-index-experimental) (1.35.19)\n",
      "Requirement already satisfied: jmespath<2.0.0,>=0.7.1 in c:\\dev\\2024\\llamaindex\\venv\\lib\\site-packages (from boto3<2.0.0,>=1.34.0->cohere<6.0.0,>=5.1.1->llama-index-postprocessor-cohere-rerank<0.3.0,>=0.2.0->llama-index-finetuning<0.3.0,>=0.2.0->llama-index-experimental) (1.0.1)\n",
      "Requirement already satisfied: s3transfer<0.11.0,>=0.10.0 in c:\\dev\\2024\\llamaindex\\venv\\lib\\site-packages (from boto3<2.0.0,>=1.34.0->cohere<6.0.0,>=5.1.1->llama-index-postprocessor-cohere-rerank<0.3.0,>=0.2.0->llama-index-finetuning<0.3.0,>=0.2.0->llama-index-experimental) (0.10.2)\n",
      "Requirement already satisfied: cffi>=1.12 in c:\\dev\\2024\\llamaindex\\venv\\lib\\site-packages (from cryptography>=2.5->azure-identity<2.0.0,>=1.15.0->llama-index-llms-azure-openai<0.3.0,>=0.2.0->llama-index-finetuning<0.3.0,>=0.2.0->llama-index-experimental) (1.17.1)\n",
      "Requirement already satisfied: PyJWT<3,>=1.0.0 in c:\\dev\\2024\\llamaindex\\venv\\lib\\site-packages (from PyJWT[crypto]<3,>=1.0.0->msal>=1.24.0->azure-identity<2.0.0,>=1.15.0->llama-index-llms-azure-openai<0.3.0,>=0.2.0->llama-index-finetuning<0.3.0,>=0.2.0->llama-index-experimental) (2.9.0)\n",
      "Requirement already satisfied: portalocker<3,>=1.4 in c:\\dev\\2024\\llamaindex\\venv\\lib\\site-packages (from msal-extensions>=0.3.0->azure-identity<2.0.0,>=1.15.0->llama-index-llms-azure-openai<0.3.0,>=0.2.0->llama-index-finetuning<0.3.0,>=0.2.0->llama-index-experimental) (2.10.1)\n",
      "Requirement already satisfied: MarkupSafe>=2.0 in c:\\dev\\2024\\llamaindex\\venv\\lib\\site-packages (from jinja2->torch<3.0.0,>=2.1.2->llama-index-embeddings-adapter<0.3.0,>=0.2.0->llama-index-finetuning<0.3.0,>=0.2.0->llama-index-experimental) (2.1.5)\n",
      "Requirement already satisfied: mpmath<1.4,>=1.1.0 in c:\\dev\\2024\\llamaindex\\venv\\lib\\site-packages (from sympy->torch<3.0.0,>=2.1.2->llama-index-embeddings-adapter<0.3.0,>=0.2.0->llama-index-finetuning<0.3.0,>=0.2.0->llama-index-experimental) (1.3.0)\n",
      "Requirement already satisfied: pycparser in c:\\dev\\2024\\llamaindex\\venv\\lib\\site-packages (from cffi>=1.12->cryptography>=2.5->azure-identity<2.0.0,>=1.15.0->llama-index-llms-azure-openai<0.3.0,>=0.2.0->llama-index-finetuning<0.3.0,>=0.2.0->llama-index-experimental) (2.22)\n",
      "Requirement already satisfied: pywin32>=226 in c:\\dev\\2024\\llamaindex\\venv\\lib\\site-packages (from portalocker<3,>=1.4->msal-extensions>=0.3.0->azure-identity<2.0.0,>=1.15.0->llama-index-llms-azure-openai<0.3.0,>=0.2.0->llama-index-finetuning<0.3.0,>=0.2.0->llama-index-experimental) (306)\n"
     ]
    },
    {
     "name": "stderr",
     "output_type": "stream",
     "text": [
      "\n",
      "[notice] A new release of pip is available: 24.0 -> 24.2\n",
      "[notice] To update, run: python.exe -m pip install --upgrade pip\n"
     ]
    }
   ],
   "source": [
    "%pip install llama-index llama-index-experimental llama-index-llms-groq python-dotenv"
   ]
  },
  {
   "cell_type": "code",
   "execution_count": 12,
   "metadata": {},
   "outputs": [],
   "source": [
    "from IPython.display import Markdown, display\n",
    "\n",
    "import pandas as pd\n",
    "from llama_index.experimental.query_engine import PandasQueryEngine"
   ]
  },
  {
   "cell_type": "code",
   "execution_count": 13,
   "metadata": {},
   "outputs": [],
   "source": [
    "from llama_index.llms.groq import Groq\n",
    "import os\n",
    "from dotenv import load_dotenv\n",
    "\n",
    "load_dotenv()\n",
    "\n",
    "llm = Groq(\n",
    "    model=\"llama-3.1-70b-versatile\",\n",
    "    api_key=os.getenv(\"GROQ_API_KEY\")\n",
    ")"
   ]
  },
  {
   "cell_type": "code",
   "execution_count": 14,
   "metadata": {},
   "outputs": [],
   "source": [
    "# Test on some sample data\n",
    "df = pd.read_csv('podcasts.csv')"
   ]
  },
  {
   "cell_type": "code",
   "execution_count": 5,
   "metadata": {},
   "outputs": [],
   "source": [
    "query_engine = PandasQueryEngine(df=df, verbose=True, llm=llm)"
   ]
  },
  {
   "cell_type": "code",
   "execution_count": 15,
   "metadata": {},
   "outputs": [
    {
     "name": "stdout",
     "output_type": "stream",
     "text": [
      "INFO:httpx:HTTP Request: POST https://api.groq.com/openai/v1/chat/completions \"HTTP/1.1 200 OK\"\n",
      "HTTP Request: POST https://api.groq.com/openai/v1/chat/completions \"HTTP/1.1 200 OK\"\n",
      "> Pandas Instructions:\n",
      "```\n",
      "df.loc[df['published_at'] == df['published_at'].max()]\n",
      "```\n",
      "> Pandas Output:                                   podcast_youtube_id  \\\n",
      "0  UExzOENaNGJsY0VLdEhNTUZrNHMyM1Q4UGktWkNLb2hEdS...   \n",
      "\n",
      "                                        podcast_name  podcast_number  \\\n",
      "0  ¡Así son las oficinas de Nike, Google y Meta! ...           336.0   \n",
      "\n",
      "           published_at                                        description  \n",
      "0  2024-09-02T16:58:20Z  Patrocinado por Shakers:\\n\\nhttps://www.shaker...  \n"
     ]
    }
   ],
   "source": [
    "response = query_engine.query(\n",
    "    \"What is the recent podcast?\",\n",
    ")"
   ]
  },
  {
   "cell_type": "code",
   "execution_count": 16,
   "metadata": {},
   "outputs": [
    {
     "data": {
      "text/markdown": [
       "                                  podcast_youtube_id  \\\n",
       "0  UExzOENaNGJsY0VLdEhNTUZrNHMyM1Q4UGktWkNLb2hEdS...   \n",
       "\n",
       "                                        podcast_name  podcast_number  \\\n",
       "0  ¡Así son las oficinas de Nike, Google y Meta! ...           336.0   \n",
       "\n",
       "           published_at                                        description  \n",
       "0  2024-09-02T16:58:20Z  Patrocinado por Shakers:\\n\\nhttps://www.shaker...  "
      ],
      "text/plain": [
       "<IPython.core.display.Markdown object>"
      ]
     },
     "metadata": {},
     "output_type": "display_data"
    }
   ],
   "source": [
    "display(Markdown(f\"{response}\"))"
   ]
  },
  {
   "cell_type": "code",
   "execution_count": 17,
   "metadata": {},
   "outputs": [
    {
     "name": "stdout",
     "output_type": "stream",
     "text": [
      "df.loc[df['published_at'] == df['published_at'].max()]\n"
     ]
    }
   ],
   "source": [
    "# get pandas python instructions\n",
    "print(response.metadata[\"pandas_instruction_str\"])"
   ]
  },
  {
   "cell_type": "code",
   "execution_count": 18,
   "metadata": {},
   "outputs": [
    {
     "name": "stdout",
     "output_type": "stream",
     "text": [
      "INFO:httpx:HTTP Request: POST https://api.groq.com/openai/v1/chat/completions \"HTTP/1.1 200 OK\"\n",
      "HTTP Request: POST https://api.groq.com/openai/v1/chat/completions \"HTTP/1.1 200 OK\"\n",
      "> Pandas Instructions:\n",
      "```\n",
      "df.loc[df['podcast_name'].str.contains('Deporvillage'), 'description']\n",
      "```\n",
      "> Pandas Output: 107    Esta semana tenemos a Xavier Pladellorens, co-...\n",
      "Name: description, dtype: object\n",
      "107    Esta semana tenemos a Xavier Pladellorens, co-...\n",
      "Name: description, dtype: object\n"
     ]
    }
   ],
   "source": [
    "response = query_engine.query(\n",
    "    \"De que trata el podcast de Deporvillage?\",\n",
    ")\n",
    "print(str(response))"
   ]
  },
  {
   "cell_type": "code",
   "execution_count": 19,
   "metadata": {},
   "outputs": [
    {
     "data": {
      "text/markdown": [
       "107    Esta semana tenemos a Xavier Pladellorens, co-...\n",
       "Name: description, dtype: object"
      ],
      "text/plain": [
       "<IPython.core.display.Markdown object>"
      ]
     },
     "metadata": {},
     "output_type": "display_data"
    }
   ],
   "source": [
    "display(Markdown(f\"{response}\"))"
   ]
  }
 ],
 "metadata": {
  "kernelspec": {
   "display_name": "venv",
   "language": "python",
   "name": "python3"
  },
  "language_info": {
   "codemirror_mode": {
    "name": "ipython",
    "version": 3
   },
   "file_extension": ".py",
   "mimetype": "text/x-python",
   "name": "python",
   "nbconvert_exporter": "python",
   "pygments_lexer": "ipython3",
   "version": "3.12.4"
  }
 },
 "nbformat": 4,
 "nbformat_minor": 2
}
